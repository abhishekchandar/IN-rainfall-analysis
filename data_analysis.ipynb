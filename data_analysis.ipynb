{
  "nbformat": 4,
  "nbformat_minor": 0,
  "metadata": {
    "colab": {
      "name": "data_analysis.ipynb",
      "provenance": [],
      "authorship_tag": "ABX9TyObUKzWZ0tMU5DnqzJIZled",
      "include_colab_link": true
    },
    "kernelspec": {
      "name": "python3",
      "display_name": "Python 3"
    }
  },
  "cells": [
    {
      "cell_type": "markdown",
      "metadata": {
        "id": "view-in-github",
        "colab_type": "text"
      },
      "source": [
        "<a href=\"https://colab.research.google.com/github/abhishekchandar/IN-rainfall-analysis/blob/main/data_analysis.ipynb\" target=\"_parent\"><img src=\"https://colab.research.google.com/assets/colab-badge.svg\" alt=\"Open In Colab\"/></a>"
      ]
    },
    {
      "cell_type": "code",
      "metadata": {
        "id": "7_5nvZxBL0ef"
      },
      "source": [
        "import pandas as pd\n",
        "import numpy as np"
      ],
      "execution_count": 1,
      "outputs": []
    },
    {
      "cell_type": "code",
      "metadata": {
        "id": "bMHwM3hIL45Q"
      },
      "source": [
        "import matplotlib.pyplot as plt\n",
        "from PIL import Image\n",
        "import seaborn as sns"
      ],
      "execution_count": 2,
      "outputs": []
    },
    {
      "cell_type": "code",
      "metadata": {
        "id": "CrAuXvbxMFIW"
      },
      "source": [
        "India = pd.read_csv(\"rainfall in india 1901-2015.csv\")"
      ],
      "execution_count": 7,
      "outputs": []
    },
    {
      "cell_type": "code",
      "metadata": {
        "colab": {
          "base_uri": "https://localhost:8080/",
          "height": 306
        },
        "id": "5lQlzxJ9MTp6",
        "outputId": "50418a2d-5743-482f-be7d-f33b985ce19a"
      },
      "source": [
        "India.head()"
      ],
      "execution_count": 8,
      "outputs": [
        {
          "output_type": "execute_result",
          "data": {
            "text/html": [
              "<div>\n",
              "<style scoped>\n",
              "    .dataframe tbody tr th:only-of-type {\n",
              "        vertical-align: middle;\n",
              "    }\n",
              "\n",
              "    .dataframe tbody tr th {\n",
              "        vertical-align: top;\n",
              "    }\n",
              "\n",
              "    .dataframe thead th {\n",
              "        text-align: right;\n",
              "    }\n",
              "</style>\n",
              "<table border=\"1\" class=\"dataframe\">\n",
              "  <thead>\n",
              "    <tr style=\"text-align: right;\">\n",
              "      <th></th>\n",
              "      <th>SUBDIVISION</th>\n",
              "      <th>YEAR</th>\n",
              "      <th>JAN</th>\n",
              "      <th>FEB</th>\n",
              "      <th>MAR</th>\n",
              "      <th>APR</th>\n",
              "      <th>MAY</th>\n",
              "      <th>JUN</th>\n",
              "      <th>JUL</th>\n",
              "      <th>AUG</th>\n",
              "      <th>SEP</th>\n",
              "      <th>OCT</th>\n",
              "      <th>NOV</th>\n",
              "      <th>DEC</th>\n",
              "      <th>ANNUAL</th>\n",
              "      <th>Jan-Feb</th>\n",
              "      <th>Mar-May</th>\n",
              "      <th>Jun-Sep</th>\n",
              "      <th>Oct-Dec</th>\n",
              "    </tr>\n",
              "  </thead>\n",
              "  <tbody>\n",
              "    <tr>\n",
              "      <th>0</th>\n",
              "      <td>ANDAMAN &amp; NICOBAR ISLANDS</td>\n",
              "      <td>1901</td>\n",
              "      <td>49.2</td>\n",
              "      <td>87.1</td>\n",
              "      <td>29.2</td>\n",
              "      <td>2.3</td>\n",
              "      <td>528.8</td>\n",
              "      <td>517.5</td>\n",
              "      <td>365.1</td>\n",
              "      <td>481.1</td>\n",
              "      <td>332.6</td>\n",
              "      <td>388.5</td>\n",
              "      <td>558.2</td>\n",
              "      <td>33.6</td>\n",
              "      <td>3373.2</td>\n",
              "      <td>136.3</td>\n",
              "      <td>560.3</td>\n",
              "      <td>1696.3</td>\n",
              "      <td>980.3</td>\n",
              "    </tr>\n",
              "    <tr>\n",
              "      <th>1</th>\n",
              "      <td>ANDAMAN &amp; NICOBAR ISLANDS</td>\n",
              "      <td>1902</td>\n",
              "      <td>0.0</td>\n",
              "      <td>159.8</td>\n",
              "      <td>12.2</td>\n",
              "      <td>0.0</td>\n",
              "      <td>446.1</td>\n",
              "      <td>537.1</td>\n",
              "      <td>228.9</td>\n",
              "      <td>753.7</td>\n",
              "      <td>666.2</td>\n",
              "      <td>197.2</td>\n",
              "      <td>359.0</td>\n",
              "      <td>160.5</td>\n",
              "      <td>3520.7</td>\n",
              "      <td>159.8</td>\n",
              "      <td>458.3</td>\n",
              "      <td>2185.9</td>\n",
              "      <td>716.7</td>\n",
              "    </tr>\n",
              "    <tr>\n",
              "      <th>2</th>\n",
              "      <td>ANDAMAN &amp; NICOBAR ISLANDS</td>\n",
              "      <td>1903</td>\n",
              "      <td>12.7</td>\n",
              "      <td>144.0</td>\n",
              "      <td>0.0</td>\n",
              "      <td>1.0</td>\n",
              "      <td>235.1</td>\n",
              "      <td>479.9</td>\n",
              "      <td>728.4</td>\n",
              "      <td>326.7</td>\n",
              "      <td>339.0</td>\n",
              "      <td>181.2</td>\n",
              "      <td>284.4</td>\n",
              "      <td>225.0</td>\n",
              "      <td>2957.4</td>\n",
              "      <td>156.7</td>\n",
              "      <td>236.1</td>\n",
              "      <td>1874.0</td>\n",
              "      <td>690.6</td>\n",
              "    </tr>\n",
              "    <tr>\n",
              "      <th>3</th>\n",
              "      <td>ANDAMAN &amp; NICOBAR ISLANDS</td>\n",
              "      <td>1904</td>\n",
              "      <td>9.4</td>\n",
              "      <td>14.7</td>\n",
              "      <td>0.0</td>\n",
              "      <td>202.4</td>\n",
              "      <td>304.5</td>\n",
              "      <td>495.1</td>\n",
              "      <td>502.0</td>\n",
              "      <td>160.1</td>\n",
              "      <td>820.4</td>\n",
              "      <td>222.2</td>\n",
              "      <td>308.7</td>\n",
              "      <td>40.1</td>\n",
              "      <td>3079.6</td>\n",
              "      <td>24.1</td>\n",
              "      <td>506.9</td>\n",
              "      <td>1977.6</td>\n",
              "      <td>571.0</td>\n",
              "    </tr>\n",
              "    <tr>\n",
              "      <th>4</th>\n",
              "      <td>ANDAMAN &amp; NICOBAR ISLANDS</td>\n",
              "      <td>1905</td>\n",
              "      <td>1.3</td>\n",
              "      <td>0.0</td>\n",
              "      <td>3.3</td>\n",
              "      <td>26.9</td>\n",
              "      <td>279.5</td>\n",
              "      <td>628.7</td>\n",
              "      <td>368.7</td>\n",
              "      <td>330.5</td>\n",
              "      <td>297.0</td>\n",
              "      <td>260.7</td>\n",
              "      <td>25.4</td>\n",
              "      <td>344.7</td>\n",
              "      <td>2566.7</td>\n",
              "      <td>1.3</td>\n",
              "      <td>309.7</td>\n",
              "      <td>1624.9</td>\n",
              "      <td>630.8</td>\n",
              "    </tr>\n",
              "  </tbody>\n",
              "</table>\n",
              "</div>"
            ],
            "text/plain": [
              "                 SUBDIVISION  YEAR   JAN  ...  Mar-May  Jun-Sep  Oct-Dec\n",
              "0  ANDAMAN & NICOBAR ISLANDS  1901  49.2  ...    560.3   1696.3    980.3\n",
              "1  ANDAMAN & NICOBAR ISLANDS  1902   0.0  ...    458.3   2185.9    716.7\n",
              "2  ANDAMAN & NICOBAR ISLANDS  1903  12.7  ...    236.1   1874.0    690.6\n",
              "3  ANDAMAN & NICOBAR ISLANDS  1904   9.4  ...    506.9   1977.6    571.0\n",
              "4  ANDAMAN & NICOBAR ISLANDS  1905   1.3  ...    309.7   1624.9    630.8\n",
              "\n",
              "[5 rows x 19 columns]"
            ]
          },
          "metadata": {
            "tags": []
          },
          "execution_count": 8
        }
      ]
    },
    {
      "cell_type": "code",
      "metadata": {
        "colab": {
          "base_uri": "https://localhost:8080/"
        },
        "id": "p2_06acCMjkg",
        "outputId": "c5fccee7-9ae2-4e6e-ef46-b7ffbcae71ac"
      },
      "source": [
        "print('Rows     :',India.shape[0])\n",
        "print('Columns  :',India.shape[1])\n",
        "print('\\nFeatures :\\n     :',India.columns.tolist())\n",
        "print('\\nMissing values    :',India.isnull().values.sum())\n",
        "print('\\nUnique values :  \\n',India.nunique())"
      ],
      "execution_count": 9,
      "outputs": [
        {
          "output_type": "stream",
          "text": [
            "Rows     : 4116\n",
            "Columns  : 19\n",
            "\n",
            "Features :\n",
            "     : ['SUBDIVISION', 'YEAR', 'JAN', 'FEB', 'MAR', 'APR', 'MAY', 'JUN', 'JUL', 'AUG', 'SEP', 'OCT', 'NOV', 'DEC', 'ANNUAL', 'Jan-Feb', 'Mar-May', 'Jun-Sep', 'Oct-Dec']\n",
            "\n",
            "Missing values    : 134\n",
            "\n",
            "Unique values :  \n",
            " SUBDIVISION      36\n",
            "YEAR            115\n",
            "JAN             802\n",
            "FEB             898\n",
            "MAR             978\n",
            "APR            1234\n",
            "MAY            1731\n",
            "JUN            2722\n",
            "JUL            3050\n",
            "AUG            2913\n",
            "SEP            2632\n",
            "OCT            1939\n",
            "NOV            1239\n",
            "DEC             801\n",
            "ANNUAL         3712\n",
            "Jan-Feb        1220\n",
            "Mar-May        2262\n",
            "Jun-Sep        3683\n",
            "Oct-Dec        2389\n",
            "dtype: int64\n"
          ],
          "name": "stdout"
        }
      ]
    },
    {
      "cell_type": "code",
      "metadata": {
        "colab": {
          "base_uri": "https://localhost:8080/",
          "height": 653
        },
        "id": "_XHT_W7EMl2R",
        "outputId": "bccfb5e7-20fc-49fa-b454-2a7305597ca7"
      },
      "source": [
        "total = India.isnull().sum().sort_values(ascending=False)\n",
        "percent = (India.isnull().sum()/India.isnull().count()).sort_values(ascending=False)\n",
        "missing_data = pd.concat([total, percent], axis=1, keys=['Total', 'Percent'])\n",
        "f, ax = plt.subplots(figsize=(15, 6))\n",
        "plt.xticks(rotation='90')\n",
        "sns.barplot(x=missing_data.index, y=missing_data['Percent'])\n",
        "plt.xlabel('Features', fontsize=15)\n",
        "plt.ylabel('Percent of missing values', fontsize=15)\n",
        "plt.title('Percent missing data by feature', fontsize=15)\n",
        "missing_data.head()"
      ],
      "execution_count": 10,
      "outputs": [
        {
          "output_type": "execute_result",
          "data": {
            "text/html": [
              "<div>\n",
              "<style scoped>\n",
              "    .dataframe tbody tr th:only-of-type {\n",
              "        vertical-align: middle;\n",
              "    }\n",
              "\n",
              "    .dataframe tbody tr th {\n",
              "        vertical-align: top;\n",
              "    }\n",
              "\n",
              "    .dataframe thead th {\n",
              "        text-align: right;\n",
              "    }\n",
              "</style>\n",
              "<table border=\"1\" class=\"dataframe\">\n",
              "  <thead>\n",
              "    <tr style=\"text-align: right;\">\n",
              "      <th></th>\n",
              "      <th>Total</th>\n",
              "      <th>Percent</th>\n",
              "    </tr>\n",
              "  </thead>\n",
              "  <tbody>\n",
              "    <tr>\n",
              "      <th>ANNUAL</th>\n",
              "      <td>26</td>\n",
              "      <td>0.006317</td>\n",
              "    </tr>\n",
              "    <tr>\n",
              "      <th>Oct-Dec</th>\n",
              "      <td>13</td>\n",
              "      <td>0.003158</td>\n",
              "    </tr>\n",
              "    <tr>\n",
              "      <th>NOV</th>\n",
              "      <td>11</td>\n",
              "      <td>0.002672</td>\n",
              "    </tr>\n",
              "    <tr>\n",
              "      <th>DEC</th>\n",
              "      <td>10</td>\n",
              "      <td>0.002430</td>\n",
              "    </tr>\n",
              "    <tr>\n",
              "      <th>Jun-Sep</th>\n",
              "      <td>10</td>\n",
              "      <td>0.002430</td>\n",
              "    </tr>\n",
              "  </tbody>\n",
              "</table>\n",
              "</div>"
            ],
            "text/plain": [
              "         Total   Percent\n",
              "ANNUAL      26  0.006317\n",
              "Oct-Dec     13  0.003158\n",
              "NOV         11  0.002672\n",
              "DEC         10  0.002430\n",
              "Jun-Sep     10  0.002430"
            ]
          },
          "metadata": {
            "tags": []
          },
          "execution_count": 10
        },
        {
          "output_type": "display_data",
          "data": {
            "image/png": "[encoded data removed]",
            "text/plain": [
              "<Figure size 1080x432 with 1 Axes>"
            ]
          },
          "metadata": {
            "tags": [],
            "needs_background": "light"
          }
        }
      ]
    },
    {
      "cell_type": "code",
      "metadata": {
        "colab": {
          "base_uri": "https://localhost:8080/"
        },
        "id": "Ae9O4SZ6MpXa",
        "outputId": "60215cd0-58c1-4cbb-c5d5-f5fb0d64ad39"
      },
      "source": [
        "India.info()"
      ],
      "execution_count": 11,
      "outputs": [
        {
          "output_type": "stream",
          "text": [
            "<class 'pandas.core.frame.DataFrame'>\n",
            "RangeIndex: 4116 entries, 0 to 4115\n",
            "Data columns (total 19 columns):\n",
            " #   Column       Non-Null Count  Dtype  \n",
            "---  ------       --------------  -----  \n",
            " 0   SUBDIVISION  4116 non-null   object \n",
            " 1   YEAR         4116 non-null   int64  \n",
            " 2   JAN          4112 non-null   float64\n",
            " 3   FEB          4113 non-null   float64\n",
            " 4   MAR          4110 non-null   float64\n",
            " 5   APR          4112 non-null   float64\n",
            " 6   MAY          4113 non-null   float64\n",
            " 7   JUN          4111 non-null   float64\n",
            " 8   JUL          4109 non-null   float64\n",
            " 9   AUG          4112 non-null   float64\n",
            " 10  SEP          4110 non-null   float64\n",
            " 11  OCT          4109 non-null   float64\n",
            " 12  NOV          4105 non-null   float64\n",
            " 13  DEC          4106 non-null   float64\n",
            " 14  ANNUAL       4090 non-null   float64\n",
            " 15  Jan-Feb      4110 non-null   float64\n",
            " 16  Mar-May      4107 non-null   float64\n",
            " 17  Jun-Sep      4106 non-null   float64\n",
            " 18  Oct-Dec      4103 non-null   float64\n",
            "dtypes: float64(17), int64(1), object(1)\n",
            "memory usage: 611.1+ KB\n"
          ],
          "name": "stdout"
        }
      ]
    },
    {
      "cell_type": "code",
      "metadata": {
        "id": "0gHmSU-1Mrm2"
      },
      "source": [
        "India['JAN'].fillna((India['JAN'].mean()), inplace=True)\n",
        "India['FEB'].fillna((India['FEB'].mean()), inplace=True)\n",
        "India['MAR'].fillna((India['MAR'].mean()), inplace=True)\n",
        "India['APR'].fillna((India['APR'].mean()), inplace=True)\n",
        "India['MAY'].fillna((India['MAY'].mean()), inplace=True)\n",
        "India['JUN'].fillna((India['JUN'].mean()), inplace=True)\n",
        "India['JUL'].fillna((India['JUL'].mean()), inplace=True)\n",
        "India['AUG'].fillna((India['AUG'].mean()), inplace=True)\n",
        "India['SEP'].fillna((India['SEP'].mean()), inplace=True)\n",
        "India['OCT'].fillna((India['OCT'].mean()), inplace=True)\n",
        "India['NOV'].fillna((India['NOV'].mean()), inplace=True)\n",
        "India['DEC'].fillna((India['DEC'].mean()), inplace=True)\n",
        "India['ANNUAL'].fillna((India['ANNUAL'].mean()), inplace=True)\n",
        "India['Jan-Feb'].fillna((India['Jan-Feb'].mean()), inplace=True)\n",
        "India['Mar-May'].fillna((India['Mar-May'].mean()), inplace=True)\n",
        "India['Jun-Sep'].fillna((India['Jun-Sep'].mean()), inplace=True)\n",
        "India['Oct-Dec'].fillna((India['Oct-Dec'].mean()), inplace=True)"
      ],
      "execution_count": 12,
      "outputs": []
    },
    {
      "cell_type": "code",
      "metadata": {
        "colab": {
          "base_uri": "https://localhost:8080/",
          "height": 317
        },
        "id": "ZawQmnRaMtTS",
        "outputId": "34d98128-bab4-42f8-8376-ae7a02e42896"
      },
      "source": [
        "India.describe()"
      ],
      "execution_count": 13,
      "outputs": [
        {
          "output_type": "execute_result",
          "data": {
            "text/html": [
              "<div>\n",
              "<style scoped>\n",
              "    .dataframe tbody tr th:only-of-type {\n",
              "        vertical-align: middle;\n",
              "    }\n",
              "\n",
              "    .dataframe tbody tr th {\n",
              "        vertical-align: top;\n",
              "    }\n",
              "\n",
              "    .dataframe thead th {\n",
              "        text-align: right;\n",
              "    }\n",
              "</style>\n",
              "<table border=\"1\" class=\"dataframe\">\n",
              "  <thead>\n",
              "    <tr style=\"text-align: right;\">\n",
              "      <th></th>\n",
              "      <th>YEAR</th>\n",
              "      <th>JAN</th>\n",
              "      <th>FEB</th>\n",
              "      <th>MAR</th>\n",
              "      <th>APR</th>\n",
              "      <th>MAY</th>\n",
              "      <th>JUN</th>\n",
              "      <th>JUL</th>\n",
              "      <th>AUG</th>\n",
              "      <th>SEP</th>\n",
              "      <th>OCT</th>\n",
              "      <th>NOV</th>\n",
              "      <th>DEC</th>\n",
              "      <th>ANNUAL</th>\n",
              "      <th>Jan-Feb</th>\n",
              "      <th>Mar-May</th>\n",
              "      <th>Jun-Sep</th>\n",
              "      <th>Oct-Dec</th>\n",
              "    </tr>\n",
              "  </thead>\n",
              "  <tbody>\n",
              "    <tr>\n",
              "      <th>count</th>\n",
              "      <td>4116.000000</td>\n",
              "      <td>4116.000000</td>\n",
              "      <td>4116.000000</td>\n",
              "      <td>4116.000000</td>\n",
              "      <td>4116.000000</td>\n",
              "      <td>4116.000000</td>\n",
              "      <td>4116.000000</td>\n",
              "      <td>4116.000000</td>\n",
              "      <td>4116.000000</td>\n",
              "      <td>4116.000000</td>\n",
              "      <td>4116.000000</td>\n",
              "      <td>4116.000000</td>\n",
              "      <td>4116.000000</td>\n",
              "      <td>4116.000000</td>\n",
              "      <td>4116.000000</td>\n",
              "      <td>4116.000000</td>\n",
              "      <td>4116.000000</td>\n",
              "      <td>4116.000000</td>\n",
              "    </tr>\n",
              "    <tr>\n",
              "      <th>mean</th>\n",
              "      <td>1958.218659</td>\n",
              "      <td>18.957320</td>\n",
              "      <td>21.805325</td>\n",
              "      <td>27.359197</td>\n",
              "      <td>43.127432</td>\n",
              "      <td>85.745417</td>\n",
              "      <td>230.234444</td>\n",
              "      <td>347.214334</td>\n",
              "      <td>290.263497</td>\n",
              "      <td>197.361922</td>\n",
              "      <td>95.507009</td>\n",
              "      <td>39.866163</td>\n",
              "      <td>18.870580</td>\n",
              "      <td>1411.008900</td>\n",
              "      <td>40.747786</td>\n",
              "      <td>155.901753</td>\n",
              "      <td>1064.724769</td>\n",
              "      <td>154.100487</td>\n",
              "    </tr>\n",
              "    <tr>\n",
              "      <th>std</th>\n",
              "      <td>33.140898</td>\n",
              "      <td>33.569044</td>\n",
              "      <td>35.896396</td>\n",
              "      <td>46.925176</td>\n",
              "      <td>67.798192</td>\n",
              "      <td>123.189974</td>\n",
              "      <td>234.568120</td>\n",
              "      <td>269.310313</td>\n",
              "      <td>188.678707</td>\n",
              "      <td>135.309591</td>\n",
              "      <td>99.434452</td>\n",
              "      <td>68.593545</td>\n",
              "      <td>42.318098</td>\n",
              "      <td>900.986632</td>\n",
              "      <td>59.265023</td>\n",
              "      <td>201.096692</td>\n",
              "      <td>706.881054</td>\n",
              "      <td>166.678751</td>\n",
              "    </tr>\n",
              "    <tr>\n",
              "      <th>min</th>\n",
              "      <td>1901.000000</td>\n",
              "      <td>0.000000</td>\n",
              "      <td>0.000000</td>\n",
              "      <td>0.000000</td>\n",
              "      <td>0.000000</td>\n",
              "      <td>0.000000</td>\n",
              "      <td>0.400000</td>\n",
              "      <td>0.000000</td>\n",
              "      <td>0.000000</td>\n",
              "      <td>0.100000</td>\n",
              "      <td>0.000000</td>\n",
              "      <td>0.000000</td>\n",
              "      <td>0.000000</td>\n",
              "      <td>62.300000</td>\n",
              "      <td>0.000000</td>\n",
              "      <td>0.000000</td>\n",
              "      <td>57.400000</td>\n",
              "      <td>0.000000</td>\n",
              "    </tr>\n",
              "    <tr>\n",
              "      <th>25%</th>\n",
              "      <td>1930.000000</td>\n",
              "      <td>0.600000</td>\n",
              "      <td>0.600000</td>\n",
              "      <td>1.000000</td>\n",
              "      <td>3.000000</td>\n",
              "      <td>8.600000</td>\n",
              "      <td>70.475000</td>\n",
              "      <td>175.900000</td>\n",
              "      <td>156.150000</td>\n",
              "      <td>100.600000</td>\n",
              "      <td>14.600000</td>\n",
              "      <td>0.700000</td>\n",
              "      <td>0.100000</td>\n",
              "      <td>806.450000</td>\n",
              "      <td>4.100000</td>\n",
              "      <td>24.200000</td>\n",
              "      <td>574.375000</td>\n",
              "      <td>34.200000</td>\n",
              "    </tr>\n",
              "    <tr>\n",
              "      <th>50%</th>\n",
              "      <td>1958.000000</td>\n",
              "      <td>6.000000</td>\n",
              "      <td>6.700000</td>\n",
              "      <td>7.900000</td>\n",
              "      <td>15.700000</td>\n",
              "      <td>36.700000</td>\n",
              "      <td>138.900000</td>\n",
              "      <td>284.900000</td>\n",
              "      <td>259.500000</td>\n",
              "      <td>174.100000</td>\n",
              "      <td>65.750000</td>\n",
              "      <td>9.700000</td>\n",
              "      <td>3.100000</td>\n",
              "      <td>1125.450000</td>\n",
              "      <td>19.300000</td>\n",
              "      <td>75.200000</td>\n",
              "      <td>882.250000</td>\n",
              "      <td>98.800000</td>\n",
              "    </tr>\n",
              "    <tr>\n",
              "      <th>75%</th>\n",
              "      <td>1987.000000</td>\n",
              "      <td>22.125000</td>\n",
              "      <td>26.800000</td>\n",
              "      <td>31.225000</td>\n",
              "      <td>49.825000</td>\n",
              "      <td>96.825000</td>\n",
              "      <td>304.950000</td>\n",
              "      <td>418.225000</td>\n",
              "      <td>377.725000</td>\n",
              "      <td>265.725000</td>\n",
              "      <td>148.300000</td>\n",
              "      <td>45.825000</td>\n",
              "      <td>17.700000</td>\n",
              "      <td>1635.100000</td>\n",
              "      <td>50.300000</td>\n",
              "      <td>196.900000</td>\n",
              "      <td>1287.550000</td>\n",
              "      <td>212.600000</td>\n",
              "    </tr>\n",
              "    <tr>\n",
              "      <th>max</th>\n",
              "      <td>2015.000000</td>\n",
              "      <td>583.700000</td>\n",
              "      <td>403.500000</td>\n",
              "      <td>605.600000</td>\n",
              "      <td>595.100000</td>\n",
              "      <td>1168.600000</td>\n",
              "      <td>1609.900000</td>\n",
              "      <td>2362.800000</td>\n",
              "      <td>1664.600000</td>\n",
              "      <td>1222.000000</td>\n",
              "      <td>948.300000</td>\n",
              "      <td>648.900000</td>\n",
              "      <td>617.500000</td>\n",
              "      <td>6331.100000</td>\n",
              "      <td>699.500000</td>\n",
              "      <td>1745.800000</td>\n",
              "      <td>4536.900000</td>\n",
              "      <td>1252.500000</td>\n",
              "    </tr>\n",
              "  </tbody>\n",
              "</table>\n",
              "</div>"
            ],
            "text/plain": [
              "              YEAR          JAN  ...      Jun-Sep      Oct-Dec\n",
              "count  4116.000000  4116.000000  ...  4116.000000  4116.000000\n",
              "mean   1958.218659    18.957320  ...  1064.724769   154.100487\n",
              "std      33.140898    33.569044  ...   706.881054   166.678751\n",
              "min    1901.000000     0.000000  ...    57.400000     0.000000\n",
              "25%    1930.000000     0.600000  ...   574.375000    34.200000\n",
              "50%    1958.000000     6.000000  ...   882.250000    98.800000\n",
              "75%    1987.000000    22.125000  ...  1287.550000   212.600000\n",
              "max    2015.000000   583.700000  ...  4536.900000  1252.500000\n",
              "\n",
              "[8 rows x 18 columns]"
            ]
          },
          "metadata": {
            "tags": []
          },
          "execution_count": 13
        }
      ]
    },
    {
      "cell_type": "code",
      "metadata": {
        "colab": {
          "base_uri": "https://localhost:8080/",
          "height": 536
        },
        "id": "psk3hrBiMvx-",
        "outputId": "f0b5c075-53da-49bc-d117-a15528e69be9"
      },
      "source": [
        "ax=India.groupby(\"YEAR\").mean()['ANNUAL'].plot(ylim=(600,2200),color='b',marker='o',linestyle='-',linewidth=2,figsize=(12,8));\n",
        "India['MA10'] = India.groupby('YEAR').mean()['ANNUAL'].rolling(10).mean()\n",
        "India.MA10.plot(color='r',linewidth=4)\n",
        "plt.xlabel('Year',fontsize=20)\n",
        "plt.ylabel('Annual Rainfall (in mm)',fontsize=20)\n",
        "plt.title('Annual Rainfall in India from Year 1901 to 2015',fontsize=25)\n",
        "ax.tick_params(labelsize=15)\n",
        "plt.grid()\n",
        "plt.ioff()"
      ],
      "execution_count": 14,
      "outputs": [
        {
          "output_type": "display_data",
          "data": {
            "image/png": "[encoded data removed]",
            "text/plain": [
              "<Figure size 864x576 with 1 Axes>"
            ]
          },
          "metadata": {
            "tags": [],
            "needs_background": "light"
          }
        }
      ]
    },
    {
      "cell_type": "code",
      "metadata": {
        "id": "Hu9g8I5AMz52"
      },
      "source": [
        ""
      ],
      "execution_count": null,
      "outputs": []
    }
  ]
}