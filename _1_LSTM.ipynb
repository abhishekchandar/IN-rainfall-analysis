{
  "nbformat": 4,
  "nbformat_minor": 0,
  "metadata": {
    "colab": {
      "name": "#1_LSTM.ipynb",
      "provenance": [],
      "include_colab_link": true
    },
    "kernelspec": {
      "name": "python3",
      "display_name": "Python 3"
    }
  },
  "cells": [
    {
      "cell_type": "markdown",
      "metadata": {
        "id": "view-in-github",
        "colab_type": "text"
      },
      "source": [
        "<a href=\"https://colab.research.google.com/github/abhishekchandar/IN-rainfall-analysis/blob/main/_1_LSTM.ipynb\" target=\"_parent\"><img src=\"https://colab.research.google.com/assets/colab-badge.svg\" alt=\"Open In Colab\"/></a>"
      ]
    },
    {
      "cell_type": "markdown",
      "metadata": {
        "id": "ZAp4M1ynBnmi"
      },
      "source": [
        "\n",
        "\n",
        " \n",
        "\n",
        "\n",
        "\n",
        "\n",
        "1.   LR, ,FLAPP, MLP, K-NN, ANN and MANN are usually called data-drivenmodels because they \n",
        "capture the mapping between input (e.g.,antecedent rainfall) and output variables (forecasted rainfall) without directly considering the physical laws that underlie the mechanism of rainfall (or precipitation). These models are purely based on the information retrieved from the collected rainfall data.\n",
        "2.    In order to use statisical model such as ARIMA, non stationary data can be converted into stationary data.\n",
        "\n",
        "*    MA, PCA and SSA are some options for data preprocessing before giving them as input to a given model\n",
        "\n",
        " References:\n",
        " https://www.researchgate.net/publication/222522809_Prediction_of_rainfall_time_series_using_modular_artificial_neural_networks_coupled_with_data-preprocessing_techniques"
      ]
    },
    {
      "cell_type": "markdown",
      "metadata": {
        "id": "sPFLoj4DB9A_"
      },
      "source": [
        ""
      ]
    },
    {
      "cell_type": "code",
      "metadata": {
        "id": "7_5nvZxBL0ef"
      },
      "source": [
        "import numpy as np\n",
        "import matplotlib.pyplot as plt\n",
        "import pandas as pd\n",
        "import math\n",
        "from keras.models import Sequential\n",
        "from keras.layers import Dense\n",
        "from keras.layers import LSTM\n",
        "from sklearn.preprocessing import MinMaxScaler\n",
        "from sklearn.metrics import mean_squared_error\n",
        "from sklearn import linear_model"
      ],
      "execution_count": 95,
      "outputs": []
    },
    {
      "cell_type": "code",
      "metadata": {
        "id": "bMHwM3hIL45Q"
      },
      "source": [
        "import matplotlib.pyplot as plt\n",
        "from PIL import Image\n",
        "import seaborn as sns"
      ],
      "execution_count": 96,
      "outputs": []
    },
    {
      "cell_type": "code",
      "metadata": {
        "id": "CrAuXvbxMFIW"
      },
      "source": [
        "India = pd.read_excel(\"1a.xlsx\")"
      ],
      "execution_count": 97,
      "outputs": []
    },
    {
      "cell_type": "code",
      "metadata": {
        "colab": {
          "base_uri": "https://localhost:8080/",
          "height": 195
        },
        "id": "5lQlzxJ9MTp6",
        "outputId": "a8401dd3-695f-411c-f4a5-5df04fdfd03e"
      },
      "source": [
        "India.head()"
      ],
      "execution_count": 98,
      "outputs": [
        {
          "output_type": "execute_result",
          "data": {
            "text/html": [
              "<div>\n",
              "<style scoped>\n",
              "    .dataframe tbody tr th:only-of-type {\n",
              "        vertical-align: middle;\n",
              "    }\n",
              "\n",
              "    .dataframe tbody tr th {\n",
              "        vertical-align: top;\n",
              "    }\n",
              "\n",
              "    .dataframe thead th {\n",
              "        text-align: right;\n",
              "    }\n",
              "</style>\n",
              "<table border=\"1\" class=\"dataframe\">\n",
              "  <thead>\n",
              "    <tr style=\"text-align: right;\">\n",
              "      <th></th>\n",
              "      <th>YEAR</th>\n",
              "      <th>ACTL</th>\n",
              "      <th>CI</th>\n",
              "      <th>NE</th>\n",
              "      <th>NW</th>\n",
              "      <th>SP</th>\n",
              "      <th>JJAS</th>\n",
              "    </tr>\n",
              "  </thead>\n",
              "  <tbody>\n",
              "    <tr>\n",
              "      <th>0</th>\n",
              "      <td>1901</td>\n",
              "      <td>ACTL</td>\n",
              "      <td>834.9</td>\n",
              "      <td>1265.2</td>\n",
              "      <td>511.0</td>\n",
              "      <td>635.7</td>\n",
              "      <td>751.7</td>\n",
              "    </tr>\n",
              "    <tr>\n",
              "      <th>1</th>\n",
              "      <td>1902</td>\n",
              "      <td>ACTL</td>\n",
              "      <td>837.1</td>\n",
              "      <td>1461.4</td>\n",
              "      <td>525.0</td>\n",
              "      <td>686.2</td>\n",
              "      <td>794.0</td>\n",
              "    </tr>\n",
              "    <tr>\n",
              "      <th>2</th>\n",
              "      <td>1903</td>\n",
              "      <td>ACTL</td>\n",
              "      <td>963.4</td>\n",
              "      <td>1280.7</td>\n",
              "      <td>629.8</td>\n",
              "      <td>857.9</td>\n",
              "      <td>880.5</td>\n",
              "    </tr>\n",
              "    <tr>\n",
              "      <th>3</th>\n",
              "      <td>1904</td>\n",
              "      <td>ACTL</td>\n",
              "      <td>821.3</td>\n",
              "      <td>1344.9</td>\n",
              "      <td>551.3</td>\n",
              "      <td>606.7</td>\n",
              "      <td>764.8</td>\n",
              "    </tr>\n",
              "    <tr>\n",
              "      <th>4</th>\n",
              "      <td>1905</td>\n",
              "      <td>ACTL</td>\n",
              "      <td>782.8</td>\n",
              "      <td>1482.5</td>\n",
              "      <td>437.9</td>\n",
              "      <td>573.2</td>\n",
              "      <td>727.9</td>\n",
              "    </tr>\n",
              "  </tbody>\n",
              "</table>\n",
              "</div>"
            ],
            "text/plain": [
              "   YEAR  ACTL     CI      NE     NW     SP   JJAS\n",
              "0  1901  ACTL  834.9  1265.2  511.0  635.7  751.7\n",
              "1  1902  ACTL  837.1  1461.4  525.0  686.2  794.0\n",
              "2  1903  ACTL  963.4  1280.7  629.8  857.9  880.5\n",
              "3  1904  ACTL  821.3  1344.9  551.3  606.7  764.8\n",
              "4  1905  ACTL  782.8  1482.5  437.9  573.2  727.9"
            ]
          },
          "metadata": {
            "tags": []
          },
          "execution_count": 98
        }
      ]
    },
    {
      "cell_type": "code",
      "metadata": {
        "colab": {
          "base_uri": "https://localhost:8080/"
        },
        "id": "p2_06acCMjkg",
        "outputId": "76e21c5f-eb0b-4b3d-b80d-baf36cbf6946"
      },
      "source": [
        "print('Rows     :',India.shape[0])\n",
        "print('Columns  :',India.shape[1])\n",
        "print('\\nFeatures :\\n     :',India.columns.tolist())\n",
        "print('\\nMissing values    :',India.isnull().values.sum())\n",
        "print('\\nUnique values :  \\n',India.nunique())"
      ],
      "execution_count": 99,
      "outputs": [
        {
          "output_type": "stream",
          "text": [
            "Rows     : 119\n",
            "Columns  : 7\n",
            "\n",
            "Features :\n",
            "     : ['YEAR', 'ACTL', 'CI', 'NE', 'NW', 'SP', 'JJAS']\n",
            "\n",
            "Missing values    : 0\n",
            "\n",
            "Unique values :  \n",
            " YEAR    119\n",
            "ACTL      1\n",
            "CI      118\n",
            "NE      117\n",
            "NW      118\n",
            "SP      117\n",
            "JJAS    119\n",
            "dtype: int64\n"
          ],
          "name": "stdout"
        }
      ]
    },
    {
      "cell_type": "code",
      "metadata": {
        "id": "_XHT_W7EMl2R",
        "colab": {
          "base_uri": "https://localhost:8080/",
          "height": 606
        },
        "outputId": "3644cf46-ae3f-4b92-f1b7-d3076b59700c"
      },
      "source": [
        "total = India.isnull().sum().sort_values(ascending=False)\n",
        "percent = (India.isnull().sum()/India.isnull().count()).sort_values(ascending=False)\n",
        "missing_data = pd.concat([total, percent], axis=1, keys=['Total', 'Percent'])\n",
        "f, ax = plt.subplots(figsize=(15, 6))\n",
        "plt.xticks(rotation='90')\n",
        "sns.barplot(x=missing_data.index, y=missing_data['Percent'])\n",
        "plt.xlabel('Features', fontsize=15)\n",
        "plt.ylabel('Percent of missing values', fontsize=15)\n",
        "plt.title('Percent missing data by feature', fontsize=15)\n",
        "missing_data.head()"
      ],
      "execution_count": 100,
      "outputs": [
        {
          "output_type": "execute_result",
          "data": {
            "text/html": [
              "<div>\n",
              "<style scoped>\n",
              "    .dataframe tbody tr th:only-of-type {\n",
              "        vertical-align: middle;\n",
              "    }\n",
              "\n",
              "    .dataframe tbody tr th {\n",
              "        vertical-align: top;\n",
              "    }\n",
              "\n",
              "    .dataframe thead th {\n",
              "        text-align: right;\n",
              "    }\n",
              "</style>\n",
              "<table border=\"1\" class=\"dataframe\">\n",
              "  <thead>\n",
              "    <tr style=\"text-align: right;\">\n",
              "      <th></th>\n",
              "      <th>Total</th>\n",
              "      <th>Percent</th>\n",
              "    </tr>\n",
              "  </thead>\n",
              "  <tbody>\n",
              "    <tr>\n",
              "      <th>JJAS</th>\n",
              "      <td>0</td>\n",
              "      <td>0.0</td>\n",
              "    </tr>\n",
              "    <tr>\n",
              "      <th>SP</th>\n",
              "      <td>0</td>\n",
              "      <td>0.0</td>\n",
              "    </tr>\n",
              "    <tr>\n",
              "      <th>NW</th>\n",
              "      <td>0</td>\n",
              "      <td>0.0</td>\n",
              "    </tr>\n",
              "    <tr>\n",
              "      <th>NE</th>\n",
              "      <td>0</td>\n",
              "      <td>0.0</td>\n",
              "    </tr>\n",
              "    <tr>\n",
              "      <th>CI</th>\n",
              "      <td>0</td>\n",
              "      <td>0.0</td>\n",
              "    </tr>\n",
              "  </tbody>\n",
              "</table>\n",
              "</div>"
            ],
            "text/plain": [
              "      Total  Percent\n",
              "JJAS      0      0.0\n",
              "SP        0      0.0\n",
              "NW        0      0.0\n",
              "NE        0      0.0\n",
              "CI        0      0.0"
            ]
          },
          "metadata": {
            "tags": []
          },
          "execution_count": 100
        },
        {
          "output_type": "display_data",
          "data": {
            "image/png": "[encoded data removed]",
            "text/plain": [
              "<Figure size 1080x432 with 1 Axes>"
            ]
          },
          "metadata": {
            "tags": [],
            "needs_background": "light"
          }
        }
      ]
    },
    {
      "cell_type": "code",
      "metadata": {
        "colab": {
          "base_uri": "https://localhost:8080/"
        },
        "id": "Ae9O4SZ6MpXa",
        "outputId": "01b69708-f1aa-46f0-b1fc-6b894739b786"
      },
      "source": [
        "India.info()"
      ],
      "execution_count": 101,
      "outputs": [
        {
          "output_type": "stream",
          "text": [
            "<class 'pandas.core.frame.DataFrame'>\n",
            "RangeIndex: 119 entries, 0 to 118\n",
            "Data columns (total 7 columns):\n",
            " #   Column  Non-Null Count  Dtype  \n",
            "---  ------  --------------  -----  \n",
            " 0   YEAR    119 non-null    int64  \n",
            " 1   ACTL    119 non-null    object \n",
            " 2   CI      119 non-null    float64\n",
            " 3   NE      119 non-null    float64\n",
            " 4   NW      119 non-null    float64\n",
            " 5   SP      119 non-null    float64\n",
            " 6   JJAS    119 non-null    float64\n",
            "dtypes: float64(5), int64(1), object(1)\n",
            "memory usage: 6.6+ KB\n"
          ],
          "name": "stdout"
        }
      ]
    },
    {
      "cell_type": "code",
      "metadata": {
        "id": "0gHmSU-1Mrm2"
      },
      "source": [
        "# India['JAN'].fillna((India['JAN'].mean()), inplace=True)\n",
        "# India['FEB'].fillna((India['FEB'].mean()), inplace=True)\n",
        "# India['MAR'].fillna((India['MAR'].mean()), inplace=True)\n",
        "# India['APR'].fillna((India['APR'].mean()), inplace=True)\n",
        "# India['MAY'].fillna((India['MAY'].mean()), inplace=True)\n",
        "# India['JUN'].fillna((India['JUN'].mean()), inplace=True)\n",
        "# India['JUL'].fillna((India['JUL'].mean()), inplace=True)\n",
        "# India['AUG'].fillna((India['AUG'].mean()), inplace=True)\n",
        "# India['SEP'].fillna((India['SEP'].mean()), inplace=True)\n",
        "# India['OCT'].fillna((India['OCT'].mean()), inplace=True)\n",
        "# India['NOV'].fillna((India['NOV'].mean()), inplace=True)\n",
        "# India['DEC'].fillna((India['DEC'].mean()), inplace=True)\n",
        "# India['ANNUAL'].fillna((India['ANNUAL'].mean()), inplace=True)\n",
        "# India['Jan-Feb'].fillna((India['Jan-Feb'].mean()), inplace=True)\n",
        "# India['Mar-May'].fillna((India['Mar-May'].mean()), inplace=True)\n",
        "# India['Jun-Sep'].fillna((India['Jun-Sep'].mean()), inplace=True)\n",
        "# India['Oct-Dec'].fillna((India['Oct-Dec'].mean()), inplace=True)"
      ],
      "execution_count": 102,
      "outputs": []
    },
    {
      "cell_type": "code",
      "metadata": {
        "colab": {
          "base_uri": "https://localhost:8080/",
          "height": 284
        },
        "id": "ZawQmnRaMtTS",
        "outputId": "dd8610eb-c48c-4dd8-f6c8-5401091e29e0"
      },
      "source": [
        "India.describe()"
      ],
      "execution_count": 103,
      "outputs": [
        {
          "output_type": "execute_result",
          "data": {
            "text/html": [
              "<div>\n",
              "<style scoped>\n",
              "    .dataframe tbody tr th:only-of-type {\n",
              "        vertical-align: middle;\n",
              "    }\n",
              "\n",
              "    .dataframe tbody tr th {\n",
              "        vertical-align: top;\n",
              "    }\n",
              "\n",
              "    .dataframe thead th {\n",
              "        text-align: right;\n",
              "    }\n",
              "</style>\n",
              "<table border=\"1\" class=\"dataframe\">\n",
              "  <thead>\n",
              "    <tr style=\"text-align: right;\">\n",
              "      <th></th>\n",
              "      <th>YEAR</th>\n",
              "      <th>CI</th>\n",
              "      <th>NE</th>\n",
              "      <th>NW</th>\n",
              "      <th>SP</th>\n",
              "      <th>JJAS</th>\n",
              "    </tr>\n",
              "  </thead>\n",
              "  <tbody>\n",
              "    <tr>\n",
              "      <th>count</th>\n",
              "      <td>119.000000</td>\n",
              "      <td>119.000000</td>\n",
              "      <td>119.000000</td>\n",
              "      <td>119.000000</td>\n",
              "      <td>119.000000</td>\n",
              "      <td>119.000000</td>\n",
              "    </tr>\n",
              "    <tr>\n",
              "      <th>mean</th>\n",
              "      <td>1960.000000</td>\n",
              "      <td>982.143697</td>\n",
              "      <td>1494.403361</td>\n",
              "      <td>598.299160</td>\n",
              "      <td>708.371429</td>\n",
              "      <td>889.936975</td>\n",
              "    </tr>\n",
              "    <tr>\n",
              "      <th>std</th>\n",
              "      <td>34.496377</td>\n",
              "      <td>128.697977</td>\n",
              "      <td>198.988659</td>\n",
              "      <td>101.277414</td>\n",
              "      <td>96.810614</td>\n",
              "      <td>86.550299</td>\n",
              "    </tr>\n",
              "    <tr>\n",
              "      <th>min</th>\n",
              "      <td>1901.000000</td>\n",
              "      <td>694.900000</td>\n",
              "      <td>1080.100000</td>\n",
              "      <td>357.100000</td>\n",
              "      <td>428.000000</td>\n",
              "      <td>682.000000</td>\n",
              "    </tr>\n",
              "    <tr>\n",
              "      <th>25%</th>\n",
              "      <td>1930.500000</td>\n",
              "      <td>897.550000</td>\n",
              "      <td>1350.700000</td>\n",
              "      <td>534.750000</td>\n",
              "      <td>649.400000</td>\n",
              "      <td>821.400000</td>\n",
              "    </tr>\n",
              "    <tr>\n",
              "      <th>50%</th>\n",
              "      <td>1960.000000</td>\n",
              "      <td>983.000000</td>\n",
              "      <td>1486.800000</td>\n",
              "      <td>603.400000</td>\n",
              "      <td>695.100000</td>\n",
              "      <td>897.000000</td>\n",
              "    </tr>\n",
              "    <tr>\n",
              "      <th>75%</th>\n",
              "      <td>1989.500000</td>\n",
              "      <td>1072.350000</td>\n",
              "      <td>1639.850000</td>\n",
              "      <td>666.550000</td>\n",
              "      <td>776.550000</td>\n",
              "      <td>955.600000</td>\n",
              "    </tr>\n",
              "    <tr>\n",
              "      <th>max</th>\n",
              "      <td>2019.000000</td>\n",
              "      <td>1308.700000</td>\n",
              "      <td>2090.300000</td>\n",
              "      <td>924.700000</td>\n",
              "      <td>924.400000</td>\n",
              "      <td>1096.100000</td>\n",
              "    </tr>\n",
              "  </tbody>\n",
              "</table>\n",
              "</div>"
            ],
            "text/plain": [
              "              YEAR           CI  ...          SP         JJAS\n",
              "count   119.000000   119.000000  ...  119.000000   119.000000\n",
              "mean   1960.000000   982.143697  ...  708.371429   889.936975\n",
              "std      34.496377   128.697977  ...   96.810614    86.550299\n",
              "min    1901.000000   694.900000  ...  428.000000   682.000000\n",
              "25%    1930.500000   897.550000  ...  649.400000   821.400000\n",
              "50%    1960.000000   983.000000  ...  695.100000   897.000000\n",
              "75%    1989.500000  1072.350000  ...  776.550000   955.600000\n",
              "max    2019.000000  1308.700000  ...  924.400000  1096.100000\n",
              "\n",
              "[8 rows x 6 columns]"
            ]
          },
          "metadata": {
            "tags": []
          },
          "execution_count": 103
        }
      ]
    },
    {
      "cell_type": "code",
      "metadata": {
        "colab": {
          "base_uri": "https://localhost:8080/",
          "height": 536
        },
        "id": "psk3hrBiMvx-",
        "outputId": "e4aac6fb-3afd-42fc-fc4f-b47592795258"
      },
      "source": [
        "ax=India.groupby(\"YEAR\").mean()['CI'].plot(ylim=(600,2200),color='b',marker='o',linestyle='-',linewidth=2,figsize=(12,8))\n",
        "plt.xlabel('Year',fontsize=20)\n",
        "plt.ylabel('Annual Rainfall (in mm)',fontsize=20)\n",
        "plt.title('Annual Rainfall in India from Year 1901 to 2015',fontsize=25)\n",
        "ax.tick_params(labelsize=15)\n",
        "plt.grid()\n",
        "plt.ioff()"
      ],
      "execution_count": 104,
      "outputs": [
        {
          "output_type": "display_data",
          "data": {
            "image/png": "[encoded data removed]",
            "text/plain": [
              "<Figure size 864x576 with 1 Axes>"
            ]
          },
          "metadata": {
            "tags": [],
            "needs_background": "light"
          }
        }
      ]
    },
    {
      "cell_type": "code",
      "metadata": {
        "id": "Omp_FHwkCEXL",
        "colab": {
          "base_uri": "https://localhost:8080/",
          "height": 402
        },
        "outputId": "d9e98de1-5381-4d44-d316-87036c9485ca"
      },
      "source": [
        "df_ci = India[[\"CI\"]]\n",
        "df_ci"
      ],
      "execution_count": 114,
      "outputs": [
        {
          "output_type": "execute_result",
          "data": {
            "text/html": [
              "<div>\n",
              "<style scoped>\n",
              "    .dataframe tbody tr th:only-of-type {\n",
              "        vertical-align: middle;\n",
              "    }\n",
              "\n",
              "    .dataframe tbody tr th {\n",
              "        vertical-align: top;\n",
              "    }\n",
              "\n",
              "    .dataframe thead th {\n",
              "        text-align: right;\n",
              "    }\n",
              "</style>\n",
              "<table border=\"1\" class=\"dataframe\">\n",
              "  <thead>\n",
              "    <tr style=\"text-align: right;\">\n",
              "      <th></th>\n",
              "      <th>CI</th>\n",
              "    </tr>\n",
              "  </thead>\n",
              "  <tbody>\n",
              "    <tr>\n",
              "      <th>0</th>\n",
              "      <td>834.9</td>\n",
              "    </tr>\n",
              "    <tr>\n",
              "      <th>1</th>\n",
              "      <td>837.1</td>\n",
              "    </tr>\n",
              "    <tr>\n",
              "      <th>2</th>\n",
              "      <td>963.4</td>\n",
              "    </tr>\n",
              "    <tr>\n",
              "      <th>3</th>\n",
              "      <td>821.3</td>\n",
              "    </tr>\n",
              "    <tr>\n",
              "      <th>4</th>\n",
              "      <td>782.8</td>\n",
              "    </tr>\n",
              "    <tr>\n",
              "      <th>...</th>\n",
              "      <td>...</td>\n",
              "    </tr>\n",
              "    <tr>\n",
              "      <th>114</th>\n",
              "      <td>827.0</td>\n",
              "    </tr>\n",
              "    <tr>\n",
              "      <th>115</th>\n",
              "      <td>1035.2</td>\n",
              "    </tr>\n",
              "    <tr>\n",
              "      <th>116</th>\n",
              "      <td>919.6</td>\n",
              "    </tr>\n",
              "    <tr>\n",
              "      <th>117</th>\n",
              "      <td>914.1</td>\n",
              "    </tr>\n",
              "    <tr>\n",
              "      <th>118</th>\n",
              "      <td>1263.4</td>\n",
              "    </tr>\n",
              "  </tbody>\n",
              "</table>\n",
              "<p>119 rows × 1 columns</p>\n",
              "</div>"
            ],
            "text/plain": [
              "         CI\n",
              "0     834.9\n",
              "1     837.1\n",
              "2     963.4\n",
              "3     821.3\n",
              "4     782.8\n",
              "..      ...\n",
              "114   827.0\n",
              "115  1035.2\n",
              "116   919.6\n",
              "117   914.1\n",
              "118  1263.4\n",
              "\n",
              "[119 rows x 1 columns]"
            ]
          },
          "metadata": {
            "tags": []
          },
          "execution_count": 114
        }
      ]
    },
    {
      "cell_type": "code",
      "metadata": {
        "id": "F8l8C0SZKubF"
      },
      "source": [
        "# fix random seed for reproducibility\n",
        "np.random.seed(7)"
      ],
      "execution_count": 115,
      "outputs": []
    },
    {
      "cell_type": "code",
      "metadata": {
        "id": "-yZW-o56K2Lv"
      },
      "source": [
        "#normalize the dataset\n",
        "scaler = MinMaxScaler(feature_range=(0,1))\n",
        "scaled_df_ci = scaler.fit_transform(df_ci)"
      ],
      "execution_count": 116,
      "outputs": []
    },
    {
      "cell_type": "code",
      "metadata": {
        "colab": {
          "base_uri": "https://localhost:8080/"
        },
        "id": "hJ_qfqaqLRVc",
        "outputId": "4c23797c-f050-470e-fa65-611bd49c72a0"
      },
      "source": [
        "#split into train and test sets\n",
        "train_size = int(len(df_ci) * 0.67)\n",
        "test_size = len(df_ci) - train_size\n",
        "train,test = scaled_df_ci[0:train_size,:], scaled_df_ci[train_size:len(df_ci),:]\n",
        "print(len(train),len(test))"
      ],
      "execution_count": 117,
      "outputs": [
        {
          "output_type": "stream",
          "text": [
            "79 40\n"
          ],
          "name": "stdout"
        }
      ]
    },
    {
      "cell_type": "code",
      "metadata": {
        "id": "hvGCL3b9L30E"
      },
      "source": [
        "# convert an array of values into a dataset matrix\n",
        "def create_dataset(dataset, look_back=1):\n",
        "\tdataX, dataY = [], []\n",
        "\tfor i in range(len(dataset)-look_back-1):\n",
        "\t\ta = dataset[i:(i+look_back), 0]\n",
        "\t\tdataX.append(a)\n",
        "\t\tdataY.append(dataset[i + look_back, 0])\n",
        "\treturn np.array(dataX), np.array(dataY)"
      ],
      "execution_count": 118,
      "outputs": []
    },
    {
      "cell_type": "code",
      "metadata": {
        "id": "lbq5fHtfMotJ"
      },
      "source": [
        "# reshape into X=t and Y=t+1\n",
        "look_back = 5\n",
        "trainX, trainY = create_dataset(train, look_back)\n",
        "testX, testY = create_dataset(test, look_back)\n",
        "# # reshape input to be [samples, time steps, features]\n",
        "# trainX = np.reshape(trainX, (trainX.shape[0], 1, trainX.shape[1]))\n",
        "# testX = np.reshape(testX, (testX.shape[0], 1, testX.shape[1]))\n",
        "# trainX\n",
        "# reshape input to be [samples, time steps, features]\n",
        "# trainX = np.reshape(trainX, (trainX.shape[0], 1, trainX.shape[1]))\n",
        "n_features = 1\n",
        "trainX = trainX.reshape((trainX.shape[0], trainX.shape[1], n_features))\n",
        "testX = testX.reshape((testX.shape[0], testX.shape[1], n_features))\n"
      ],
      "execution_count": 133,
      "outputs": []
    },
    {
      "cell_type": "code",
      "metadata": {
        "colab": {
          "base_uri": "https://localhost:8080/"
        },
        "id": "gm-dFLa1M1t-",
        "outputId": "6984e970-fc29-45fb-b593-26a0598fdb7f"
      },
      "source": [
        "# create and fit the LSTM network\n",
        "model = Sequential()\n",
        "model.add(LSTM(50, activation='relu', input_shape=(look_back,1)))\n",
        "model.add(Dense(1))\n",
        "model.compile(loss='mean_squared_error', optimizer='adam')\n",
        "model.fit(trainX, trainY, epochs=200, batch_size=1,verbose=0)"
      ],
      "execution_count": 120,
      "outputs": [
        {
          "output_type": "execute_result",
          "data": {
            "text/plain": [
              "<tensorflow.python.keras.callbacks.History at 0x7f3a51c0b438>"
            ]
          },
          "metadata": {
            "tags": []
          },
          "execution_count": 120
        }
      ]
    },
    {
      "cell_type": "code",
      "metadata": {
        "id": "V9qGJEnaV7nO"
      },
      "source": [
        "# make predictions\n",
        "trainPredict = model.predict(trainX,verbose=0)\n",
        "# testPredict = model.predict(testX)\n",
        "\n",
        "#Reshaping for inverse_transform\n",
        "w = np.zeros((73,1))\n",
        "trainPredict = np.append(trainPredict,w,axis=1)\n",
        "\n",
        "y = np.zeros((73,1))\n",
        "trainY = np.reshape(trainY,(-1,1))\n",
        "trainY = np.append(trainY,y,axis=1)\n"
      ],
      "execution_count": 121,
      "outputs": []
    },
    {
      "cell_type": "code",
      "metadata": {
        "id": "pc48Icr1cY0H"
      },
      "source": [
        "x = np.zeros((34,1))\n",
        "testPredict = np.append(testPredict,x,axis=1)\n",
        "\n",
        "z = np.zeros((34,1))\n",
        "testY = np.reshape(testY,(-1,1))\n",
        "testY = np.append(testY,z,axis=1)"
      ],
      "execution_count": 135,
      "outputs": []
    },
    {
      "cell_type": "markdown",
      "metadata": {
        "id": "MzeXtwHmlgfP"
      },
      "source": [
        "https://stackoverflow.com/questions/49330195/how-to-use-inverse-transform-in-minmaxscaler-for-a-column-in-a-matrix/49330312\n",
        "\n",
        "http://scipy.github.io/old-wiki/pages/EricsBroadcastingDoc"
      ]
    },
    {
      "cell_type": "code",
      "metadata": {
        "id": "3fQ8QbH5WAl3",
        "colab": {
          "base_uri": "https://localhost:8080/",
          "height": 1000
        },
        "outputId": "b969a829-6851-4638-d6ff-116237c9cad3"
      },
      "source": [
        "# invert predictions (trainPredict and testPredict works! The actual value is the first column alone for both!)\n",
        "trainPredict = scaler.inverse_transform(trainPredict)\n",
        "trainY = scaler.inverse_transform(trainY)\n",
        "display(trainPredict) #for comparing the predicted and actual array!\n",
        "display(trainY)\n",
        "\n"
      ],
      "execution_count": 122,
      "outputs": [
        {
          "output_type": "display_data",
          "data": {
            "text/plain": [
              "array([[1086.42724856,  694.9       ],\n",
              "       [ 997.10313863,  694.9       ],\n",
              "       [1040.05852449,  694.9       ],\n",
              "       [1076.86698939,  694.9       ],\n",
              "       [1063.72645314,  694.9       ],\n",
              "       [1027.40354875,  694.9       ],\n",
              "       [1003.74418107,  694.9       ],\n",
              "       [ 992.49591131,  694.9       ],\n",
              "       [ 975.79997602,  694.9       ],\n",
              "       [ 961.18296556,  694.9       ],\n",
              "       [1110.5760548 ,  694.9       ],\n",
              "       [1040.45265826,  694.9       ],\n",
              "       [ 937.96498161,  694.9       ],\n",
              "       [1107.30693597,  694.9       ],\n",
              "       [ 879.09583653,  694.9       ],\n",
              "       [1014.1640126 ,  694.9       ],\n",
              "       [ 955.34716625,  694.9       ],\n",
              "       [ 995.97974945,  694.9       ],\n",
              "       [ 982.4588721 ,  694.9       ],\n",
              "       [1056.93347181,  694.9       ],\n",
              "       [1010.45067468,  694.9       ],\n",
              "       [1009.02637116,  694.9       ],\n",
              "       [1070.94620235,  694.9       ],\n",
              "       [1069.98858131,  694.9       ],\n",
              "       [ 937.28253714,  694.9       ],\n",
              "       [ 959.18767478,  694.9       ],\n",
              "       [ 992.06793611,  694.9       ],\n",
              "       [1068.52505832,  694.9       ],\n",
              "       [1043.75719169,  694.9       ],\n",
              "       [1049.0552964 ,  694.9       ],\n",
              "       [1104.37692657,  694.9       ],\n",
              "       [ 957.11785969,  694.9       ],\n",
              "       [ 967.58053263,  694.9       ],\n",
              "       [1004.18240017,  694.9       ],\n",
              "       [1046.88761554,  694.9       ],\n",
              "       [ 995.19788435,  694.9       ],\n",
              "       [1038.05946542,  694.9       ],\n",
              "       [ 954.14405764,  694.9       ],\n",
              "       [1040.37418272,  694.9       ],\n",
              "       [1051.34345275,  694.9       ],\n",
              "       [ 978.66138792,  694.9       ],\n",
              "       [1052.07984229,  694.9       ],\n",
              "       [1017.43499728,  694.9       ],\n",
              "       [1051.24767236,  694.9       ],\n",
              "       [1007.06766571,  694.9       ],\n",
              "       [ 998.06661332,  694.9       ],\n",
              "       [1027.17232946,  694.9       ],\n",
              "       [ 995.94418851,  694.9       ],\n",
              "       [ 980.3032644 ,  694.9       ],\n",
              "       [1035.17478524,  694.9       ],\n",
              "       [1103.06563513,  694.9       ],\n",
              "       [1007.64066516,  694.9       ],\n",
              "       [1088.65672204,  694.9       ],\n",
              "       [1038.12414829,  694.9       ],\n",
              "       [ 929.83928814,  694.9       ],\n",
              "       [1094.50602134,  694.9       ],\n",
              "       [ 877.22299685,  694.9       ],\n",
              "       [1045.4543852 ,  694.9       ],\n",
              "       [1047.60168803,  694.9       ],\n",
              "       [ 779.32258107,  694.9       ],\n",
              "       [ 979.84916728,  694.9       ],\n",
              "       [1009.65219983,  694.9       ],\n",
              "       [ 928.4791187 ,  694.9       ],\n",
              "       [1020.12475082,  694.9       ],\n",
              "       [1099.9897966 ,  694.9       ],\n",
              "       [1000.54889144,  694.9       ],\n",
              "       [1070.35714194,  694.9       ],\n",
              "       [1024.15166161,  694.9       ],\n",
              "       [ 824.52007151,  694.9       ],\n",
              "       [1018.00148455,  694.9       ],\n",
              "       [ 993.9806538 ,  694.9       ],\n",
              "       [1010.70955248,  694.9       ],\n",
              "       [1047.46522474,  694.9       ]])"
            ]
          },
          "metadata": {
            "tags": []
          }
        },
        {
          "output_type": "display_data",
          "data": {
            "text/plain": [
              "array([[1003.7,  694.9],\n",
              "       [ 891.5,  694.9],\n",
              "       [1068.4,  694.9],\n",
              "       [ 953.4,  694.9],\n",
              "       [1039.8,  694.9],\n",
              "       [ 824.8,  694.9],\n",
              "       [ 929.9,  694.9],\n",
              "       [ 933.1,  694.9],\n",
              "       [1094.6,  694.9],\n",
              "       [ 845.5,  694.9],\n",
              "       [1081.6,  694.9],\n",
              "       [1171.1,  694.9],\n",
              "       [ 694.9,  694.9],\n",
              "       [1112.9,  694.9],\n",
              "       [ 775.7,  694.9],\n",
              "       [ 999.8,  694.9],\n",
              "       [ 960.7,  694.9],\n",
              "       [ 943.9,  694.9],\n",
              "       [ 882.2,  694.9],\n",
              "       [ 926.4,  694.9],\n",
              "       [1113.8,  694.9],\n",
              "       [1021.3,  694.9],\n",
              "       [ 909.7,  694.9],\n",
              "       [ 920.5,  694.9],\n",
              "       [ 945. ,  694.9],\n",
              "       [1023.8,  694.9],\n",
              "       [ 997.4,  694.9],\n",
              "       [1180.4,  694.9],\n",
              "       [1139.2,  694.9],\n",
              "       [ 977.9,  694.9],\n",
              "       [1020.8,  694.9],\n",
              "       [1067.6,  694.9],\n",
              "       [1032.7,  694.9],\n",
              "       [ 944.5,  694.9],\n",
              "       [1031. ,  694.9],\n",
              "       [ 796.8,  694.9],\n",
              "       [1160.2,  694.9],\n",
              "       [1015.7,  694.9],\n",
              "       [1158.5,  694.9],\n",
              "       [1117.7,  694.9],\n",
              "       [1127. ,  694.9],\n",
              "       [1057.7,  694.9],\n",
              "       [ 973. ,  694.9],\n",
              "       [1012.6,  694.9],\n",
              "       [ 957.4,  694.9],\n",
              "       [ 821.1,  694.9],\n",
              "       [ 908.2,  694.9],\n",
              "       [1033. ,  694.9],\n",
              "       [1073.9,  694.9],\n",
              "       [1076.8,  694.9],\n",
              "       [1171.6,  694.9],\n",
              "       [ 893.2,  694.9],\n",
              "       [1099.9,  694.9],\n",
              "       [1230.8,  694.9],\n",
              "       [ 945.7,  694.9],\n",
              "       [1293.5,  694.9],\n",
              "       [ 914.4,  694.9],\n",
              "       [1001.5,  694.9],\n",
              "       [1041.7,  694.9],\n",
              "       [ 755.9,  694.9],\n",
              "       [ 793.9,  694.9],\n",
              "       [1022.6,  694.9],\n",
              "       [ 848.1,  694.9],\n",
              "       [1006. ,  694.9],\n",
              "       [1181.9,  694.9],\n",
              "       [ 993.3,  694.9],\n",
              "       [ 767.5,  694.9],\n",
              "       [1102.9,  694.9],\n",
              "       [ 730.2,  694.9],\n",
              "       [1135.6,  694.9],\n",
              "       [1046.7,  694.9],\n",
              "       [1034. ,  694.9],\n",
              "       [1013.7,  694.9]])"
            ]
          },
          "metadata": {
            "tags": []
          }
        }
      ]
    },
    {
      "cell_type": "code",
      "metadata": {
        "colab": {
          "base_uri": "https://localhost:8080/",
          "height": 1000
        },
        "id": "C24JSEGgcnhW",
        "outputId": "44822abb-44aa-419f-ef86-e69a0bf2ce20"
      },
      "source": [
        "testPredict = scaler.inverse_transform(testPredict)\n",
        "testY = scaler.inverse_transform(testY)\n",
        "display(testPredict)\n",
        "display(testY)"
      ],
      "execution_count": 140,
      "outputs": [
        {
          "output_type": "display_data",
          "data": {
            "text/plain": [
              "array([[689551.05698178, 427224.52      ],\n",
              "       [692276.21410238, 427224.52      ],\n",
              "       [694983.49618636, 427224.52      ],\n",
              "       [697672.81340943, 427224.52      ],\n",
              "       [700344.23313981, 427224.52      ],\n",
              "       [702997.6655532 , 427224.52      ],\n",
              "       [705633.2004739 , 427224.52      ],\n",
              "       [708250.81544584, 427224.52      ],\n",
              "       [710850.51046902, 427224.52      ],\n",
              "       [713432.33045558, 427224.52      ],\n",
              "       [715996.34277376, 427224.52      ],\n",
              "       [718542.52496748, 427224.52      ],\n",
              "       [721070.94440497, 427224.52      ],\n",
              "       [723581.66845446, 427224.52      ],\n",
              "       [726074.74202809, 427224.52      ],\n",
              "       [728550.16512588, 427224.52      ],\n",
              "       [731008.11739643, 427224.52      ],\n",
              "       [733448.5314715 , 427224.52      ],\n",
              "       [735871.54208757, 427224.52      ],\n",
              "       [738277.21661285, 427224.52      ],\n",
              "       [740665.64487165, 427224.52      ],\n",
              "       [743036.8942322 , 427224.52      ],\n",
              "       [745391.00960665, 427224.52      ],\n",
              "       [747728.10327538, 427224.52      ],\n",
              "       [750048.24260662, 427224.52      ],\n",
              "       [752351.58479291, 427224.52      ],\n",
              "       [754638.15229032, 427224.52      ],\n",
              "       [756908.01246707, 427224.52      ],\n",
              "       [759161.30005963, 427224.52      ],\n",
              "       [761398.1048923 , 427224.52      ],\n",
              "       [763618.58415761, 427224.52      ],\n",
              "       [765822.69294341, 427224.52      ],\n",
              "       [768010.70072261, 427224.52      ],\n",
              "       [770182.56258307, 427224.52      ]])"
            ]
          },
          "metadata": {
            "tags": []
          }
        },
        {
          "output_type": "display_data",
          "data": {
            "text/plain": [
              "array([[519540.04, 427224.52],\n",
              "       [521626.96, 427224.52],\n",
              "       [446743.36, 427224.52],\n",
              "       [657951.94, 427224.52],\n",
              "       [581165.56, 427224.52],\n",
              "       [683117.74, 427224.52],\n",
              "       [551580.4 , 427224.52],\n",
              "       [584173.18, 427224.52],\n",
              "       [604060.3 , 427224.52],\n",
              "       [803974.96, 427224.52],\n",
              "       [518005.54, 427224.52],\n",
              "       [554588.02, 427224.52],\n",
              "       [608725.18, 427224.52],\n",
              "       [577789.66, 427224.52],\n",
              "       [589267.72, 427224.52],\n",
              "       [485658.28, 427224.52],\n",
              "       [597369.88, 427224.52],\n",
              "       [480256.84, 427224.52],\n",
              "       [678575.62, 427224.52],\n",
              "       [552992.14, 427224.52],\n",
              "       [670780.36, 427224.52],\n",
              "       [723137.5 , 427224.52],\n",
              "       [668325.16, 427224.52],\n",
              "       [599395.42, 427224.52],\n",
              "       [494681.14, 427224.52],\n",
              "       [646228.36, 427224.52],\n",
              "       [671025.88, 427224.52],\n",
              "       [580981.42, 427224.52],\n",
              "       [723321.64, 427224.52],\n",
              "       [544092.04, 427224.52],\n",
              "       [508307.5 , 427224.52],\n",
              "       [636100.66, 427224.52],\n",
              "       [565145.38, 427224.52],\n",
              "       [561769.48, 427224.52]])"
            ]
          },
          "metadata": {
            "tags": []
          }
        }
      ]
    },
    {
      "cell_type": "code",
      "metadata": {
        "id": "BzyU1_bAWDDt"
      },
      "source": [
        "# # calculate root mean squared error\n",
        "trainScore = math.sqrt(mean_squared_error(trainY[:,0], trainPredict[:,0]))\n",
        "print('Train Score: %.2f RMSE' % (trainScore))\n"
      ],
      "execution_count": null,
      "outputs": []
    },
    {
      "cell_type": "code",
      "metadata": {
        "colab": {
          "base_uri": "https://localhost:8080/"
        },
        "id": "oJ2b1-Zmc5z6",
        "outputId": "ac1930cf-1683-4e0f-cfa1-e22b1a87c0c1"
      },
      "source": [
        "testScore = math.sqrt(mean_squared_error(testY[:,0], testPredict[:,0]))\n",
        "print('Test Score: %.2f RMSE' % (testScore))"
      ],
      "execution_count": 139,
      "outputs": [
        {
          "output_type": "stream",
          "text": [
            "Test Score: 258.29 RMSE\n"
          ],
          "name": "stdout"
        }
      ]
    }
  ]
}